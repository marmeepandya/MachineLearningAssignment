{
 "cells": [
  {
   "cell_type": "code",
   "execution_count": 1,
   "id": "4a652ac0",
   "metadata": {},
   "outputs": [],
   "source": [
    "# ---\n",
    "# jupyter:\n",
    "#   jupytext:\n",
    "#     text_representation:\n",
    "#       extension: .py\n",
    "#       format_name: percent\n",
    "#       format_version: '1.3'\n",
    "#       jupytext_version: 1.16.7\n",
    "#   kernelspec:\n",
    "#     display_name: Python (ML25_assignments)\n",
    "#     language: python\n",
    "#     name: ml25\n",
    "# ---\n",
    "\n",
    "# %% [markdown]\n",
    "# # 2 Prediction"
   ]
  },
  {
   "cell_type": "code",
   "execution_count": 2,
   "id": "b9c9ff59",
   "metadata": {},
   "outputs": [],
   "source": [
    "# %%\n",
    "# %load_ext autoreload\n",
    "# %autoreload 2\n",
    "from a01_helper import *\n",
    "from a01_functions import nb_train, nb_predict"
   ]
  },
  {
   "cell_type": "code",
   "execution_count": 3,
   "id": "9e6bb813",
   "metadata": {},
   "outputs": [
    {
     "data": {
      "text/plain": [
       "{'yhat': array([0, 1, 2, 0]),\n",
       " 'logprob': array([-0.41925843, -0.55388511, -0.68309684, -0.29804486])}"
      ]
     },
     "execution_count": 3,
     "metadata": {},
     "output_type": "execute_result"
    }
   ],
   "source": [
    "# Test your code\n",
    "model = nb_train(Xex, yex, alpha=2)\n",
    "nb_predict(model, Xex)\n",
    "# This should produce:\n",
    "# {'logprob': array([-0.41925843, -0.55388511, -0.68309684, -0.29804486]),\n",
    "#  'yhat': array([0, 1, 2, 0], dtype=int64)}"
   ]
  },
  {
   "cell_type": "markdown",
   "id": "9c40614c",
   "metadata": {},
   "source": []
  }
 ],
 "metadata": {
  "kernelspec": {
   "display_name": "base",
   "language": "python",
   "name": "python3"
  },
  "language_info": {
   "codemirror_mode": {
    "name": "ipython",
    "version": 3
   },
   "file_extension": ".py",
   "mimetype": "text/x-python",
   "name": "python",
   "nbconvert_exporter": "python",
   "pygments_lexer": "ipython3",
   "version": "3.12.2"
  }
 },
 "nbformat": 4,
 "nbformat_minor": 5
}
