{
 "cells": [
  {
   "cell_type": "code",
   "execution_count": null,
   "id": "111a923b-ff69-4b49-bfc7-ece02ae1efec",
   "metadata": {},
   "outputs": [],
   "source": [
    "# ---\n",
    "# jupyter:\n",
    "#   jupytext:\n",
    "#     text_representation:\n",
    "#       extension: .py\n",
    "#       format_name: percent\n",
    "#       format_version: '1.3'\n",
    "#       jupytext_version: 1.16.7\n",
    "#   kernelspec:\n",
    "#     display_name: Python (ML25_assignments)\n",
    "#     language: python\n",
    "#     name: ml25\n",
    "# ---\n",
    "\n",
    "# %% [markdown]\n",
    "# # 2 Prediction"
   ]
  },
  {
   "cell_type": "code",
   "execution_count": null,
   "id": "ebfdd184-6427-4441-8197-b2956529e387",
   "metadata": {},
   "outputs": [],
   "source": [
    "# %%\n",
    "# %load_ext autoreload\n",
    "# %autoreload 2\n",
    "from a01_helper import *\n",
    "from a01_functions import nb_train, nb_predict"
   ]
  },
  {
   "cell_type": "code",
   "execution_count": null,
   "id": "cb5989f4-347e-49c0-9d16-11c91b8e7ec8",
   "metadata": {},
   "outputs": [],
   "source": [
    "# Test your code\n",
    "model = nb_train(Xex, yex, alpha=2)\n",
    "nb_predict(model, Xex)\n",
    "# This should produce:\n",
    "# {'logprob': array([-0.41925843, -0.55388511, -0.68309684, -0.29804486]),\n",
    "#  'yhat': array([0, 1, 2, 0], dtype=int64)}"
   ]
  }
 ],
 "metadata": {
  "kernelspec": {
   "display_name": "Python 3 (ipykernel)",
   "language": "python",
   "name": "python3"
  },
  "language_info": {
   "codemirror_mode": {
    "name": "ipython",
    "version": 3
   },
   "file_extension": ".py",
   "mimetype": "text/x-python",
   "name": "python",
   "nbconvert_exporter": "python",
   "pygments_lexer": "ipython3",
   "version": "3.12.2"
  }
 },
 "nbformat": 4,
 "nbformat_minor": 5
}
