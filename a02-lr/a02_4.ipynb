{
 "cells": [
  {
   "cell_type": "markdown",
   "id": "8f0772f7",
   "metadata": {},
   "source": [
    "# 4 Maximum Aposteriori Estimation"
   ]
  },
  {
   "cell_type": "code",
   "execution_count": null,
   "id": "c6cd1240",
   "metadata": {},
   "outputs": [],
   "source": [
    "import numpy as np\n",
    "import matplotlib.pyplot as plt\n",
    "import sklearn\n",
    "\n",
    "%load_ext autoreload\n",
    "%autoreload 2\n",
    "\n",
    "from a02_helper import *\n",
    "from a02_functions import l, l_l2, dl_l2, gd, gd_l2, logsigma, classify, optimize"
   ]
  },
  {
   "cell_type": "markdown",
   "id": "478e6a6a",
   "metadata": {},
   "source": [
    "## 4a Gradient Descent"
   ]
  },
  {
   "cell_type": "markdown",
   "id": "36d8e477",
   "metadata": {},
   "source": [
    "Implement the function returning the log-density of the posterior of logistic\n",
    "regression, regularized with parameter lambda, in `a02_functions.py`. Then test it\n",
    "below."
   ]
  },
  {
   "cell_type": "code",
   "execution_count": null,
   "id": "48e99707",
   "metadata": {},
   "outputs": [],
   "source": [
    "# this should give:\n",
    "# [-47066.641667825766, -47312.623810682911]\n",
    "[l_l2(y, Xz, np.linspace(-5, 5, D), 0), l_l2(y, Xz, np.linspace(-5, 5, D), 1)]"
   ]
  },
  {
   "cell_type": "markdown",
   "id": "39342004",
   "metadata": {},
   "source": [
    "Now implement the function to obtain its gradient and test it, in the same manner as\n",
    "above."
   ]
  },
  {
   "cell_type": "code",
   "execution_count": null,
   "id": "39bd5acb",
   "metadata": {},
   "outputs": [],
   "source": [
    "# this should give:\n",
    "# [array([  551.33985842,   143.84116318,   841.83373606,   156.87237578,\n",
    "#           802.61217579,   795.96202907,   920.69045803,   621.96516752,\n",
    "#           659.18724769,   470.81259805,   771.32406968,   352.40325626,\n",
    "#           455.66972482,   234.36600888,   562.45454038,   864.83981264,\n",
    "#           787.19723703,   649.48042176,   902.6478154 ,   544.00539886,\n",
    "#          1174.78638035,   120.3598967 ,   839.61141672,   633.30453444,\n",
    "#          -706.66815087,  -630.2039816 ,  -569.3451386 ,  -527.50996698,\n",
    "#          -359.53701083,  -476.64334832,  -411.60620464,  -375.11950586,\n",
    "#          -345.37195689,  -376.22044258,  -407.31761977,  -456.23251936,\n",
    "#          -596.86960184,  -107.97072355,  -394.82170044,  -229.18125598,\n",
    "#          -288.46356547,  -362.13402385,  -450.87896465,  -277.03932676,\n",
    "#          -414.99293368,  -452.28771693,  -167.54649092,  -270.9043748 ,\n",
    "#          -252.20140951,  -357.72497343,  -259.12468742,   418.35938483,\n",
    "#           604.54173228,    43.10390907,   152.24258478,   378.16731033,\n",
    "#           416.12032881]),\n",
    "#  array([  556.33985842,   148.66259175,   846.4765932 ,   161.33666149,\n",
    "#           806.89789007,   800.06917193,   924.61902946,   625.71516752,\n",
    "#           662.75867626,   474.20545519,   774.5383554 ,   355.43897054,\n",
    "#           458.52686767,   237.04458031,   564.95454038,   867.16124121,\n",
    "#           789.34009417,   651.44470748,   904.43352968,   545.61254171,\n",
    "#          1176.21495178,   121.6098967 ,   840.68284529,   634.19739158,\n",
    "#          -705.95386516,  -629.66826731,  -568.98799574,  -527.33139555,\n",
    "#          -359.53701083,  -476.82191975,  -411.9633475 ,  -375.65522015,\n",
    "#          -346.08624261,  -377.11329972,  -408.38904835,  -457.48251936,\n",
    "#          -598.29817327,  -109.57786641,  -396.60741472,  -231.14554169,\n",
    "#          -290.60642261,  -364.45545242,  -453.37896465,  -279.71789819,\n",
    "#          -417.85007654,  -455.32343122,  -170.76077664,  -274.29723194,\n",
    "#          -255.77283808,  -361.47497343,  -263.05325885,   414.25224198,\n",
    "#           600.25601799,    38.63962335,   147.59972763,   373.34588176,\n",
    "#           411.12032881])]\n",
    "[dl_l2(y, Xz, np.linspace(-5, 5, D), 0), dl_l2(y, Xz, np.linspace(-5, 5, D), 1)]"
   ]
  },
  {
   "cell_type": "markdown",
   "id": "bae8e39b",
   "metadata": {},
   "source": [
    "Now define the (f,update) tuple handed to the `optimize` function for gradient descent\n",
    "on logistic regression with L2 regularization. Then run it below."
   ]
  },
  {
   "cell_type": "code",
   "execution_count": null,
   "id": "e266dd15",
   "metadata": {},
   "outputs": [],
   "source": [
    "# let's run!\n",
    "lambda_ = 100\n",
    "w0 = np.random.normal(size=D)\n",
    "wz_gd_l2, vz_gd_l2, ez_gd_l2 = optimize(gd_l2(y, Xz, lambda_), w0, nepochs=500)"
   ]
  },
  {
   "cell_type": "markdown",
   "id": "d0dc4006",
   "metadata": {},
   "source": [
    "## 4b Effect of Prior"
   ]
  },
  {
   "cell_type": "code",
   "execution_count": null,
   "id": "7bf5beb1",
   "metadata": {},
   "outputs": [],
   "source": [
    "# YOUR CODE HERE"
   ]
  },
  {
   "cell_type": "markdown",
   "id": "16e3b559",
   "metadata": {},
   "source": [
    "## 4c Composition of Weight Vector"
   ]
  },
  {
   "cell_type": "code",
   "execution_count": null,
   "id": "2139e726",
   "metadata": {},
   "outputs": [],
   "source": [
    "# YOUR CODE HERE"
   ]
  }
 ],
 "metadata": {
  "kernelspec": {
   "display_name": "py3",
   "language": "python",
   "name": "py3"
  }
 },
 "nbformat": 4,
 "nbformat_minor": 5
}
