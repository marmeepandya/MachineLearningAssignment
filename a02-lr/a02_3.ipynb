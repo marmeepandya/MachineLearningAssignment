{
 "cells": [
  {
   "cell_type": "markdown",
   "id": "ec8cc7db",
   "metadata": {},
   "source": [
    "# 3 Prediction"
   ]
  },
  {
   "cell_type": "code",
   "execution_count": null,
   "id": "048b336b",
   "metadata": {},
   "outputs": [],
   "source": [
    "import numpy as np\n",
    "import matplotlib.pyplot as plt\n",
    "import sklearn\n",
    "\n",
    "%load_ext autoreload\n",
    "%autoreload 2\n",
    "\n",
    "from a02_helper import *\n",
    "from a02_functions import gd, predict, classify, optimize"
   ]
  },
  {
   "cell_type": "code",
   "execution_count": null,
   "id": "d3964b9f",
   "metadata": {},
   "outputs": [],
   "source": [
    "# Fitted model\n",
    "w0 = np.random.normal(size=D)\n",
    "wz_gd, vz_gd, ez_gd = optimize(gd(y, Xz), w0, nepochs=500)"
   ]
  },
  {
   "cell_type": "markdown",
   "id": "34bea645",
   "metadata": {},
   "source": [
    "In `a02_functions.py`, complete the `predict` and `classify` methods for the predicted\n",
    "spam probability and predicted class label, respectively. Use them to explore your\n",
    "previously fitted model."
   ]
  },
  {
   "cell_type": "code",
   "execution_count": null,
   "id": "a286cdae",
   "metadata": {},
   "outputs": [],
   "source": [
    "# Exploration example: confusion matrix\n",
    "yhat = predict(Xtestz, wz_gd)\n",
    "ypred = classify(Xtestz, wz_gd)\n",
    "print(sklearn.metrics.confusion_matrix(ytest, ypred))  # true x predicted"
   ]
  },
  {
   "cell_type": "code",
   "execution_count": null,
   "id": "2ad6b1c9",
   "metadata": {},
   "outputs": [],
   "source": [
    "# Exploration example: classification report\n",
    "print(sklearn.metrics.classification_report(ytest, ypred))"
   ]
  },
  {
   "cell_type": "code",
   "execution_count": null,
   "id": "2abdb2d7",
   "metadata": {},
   "outputs": [],
   "source": [
    "# Exploration Example: precision-recall curve (with annotated thresholds)\n",
    "nextplot()\n",
    "precision, recall, thresholds = sklearn.metrics.precision_recall_curve(ytest, yhat)\n",
    "plt.plot(recall, precision)\n",
    "for x in np.linspace(0, 1, 10, endpoint=False):\n",
    "    index = int(x * (precision.size - 1))\n",
    "    plt.text(recall[index], precision[index], \"{:3.2f}\".format(thresholds[index]))\n",
    "plt.xlabel(\"Recall\")\n",
    "plt.ylabel(\"Precision\")"
   ]
  },
  {
   "cell_type": "code",
   "execution_count": null,
   "id": "3eaa2f46",
   "metadata": {},
   "outputs": [],
   "source": [
    "# Explore which features are considered important\n",
    "# YOUR CODE HERE"
   ]
  }
 ],
 "metadata": {
  "kernelspec": {
   "display_name": "py3",
   "language": "python",
   "name": "py3"
  }
 },
 "nbformat": 4,
 "nbformat_minor": 5
}
